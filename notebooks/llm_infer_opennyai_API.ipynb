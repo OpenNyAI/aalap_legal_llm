{
 "cells": [
  {
   "cell_type": "code",
   "execution_count": null,
   "metadata": {},
   "outputs": [],
   "source": [
    "# !pip install datasets text-generation"
   ]
  },
  {
   "cell_type": "code",
   "execution_count": null,
   "metadata": {},
   "outputs": [],
   "source": [
    "import random\n",
    "from datasets import load_dataset\n",
    "from text_generation import Client\n",
    "\n",
    "endpoint_url=''\n",
    "client = Client(endpoint_url,timeout=1000)"
   ]
  },
  {
   "cell_type": "code",
   "execution_count": null,
   "metadata": {},
   "outputs": [],
   "source": [
    "dataset_pandas = load_dataset(\"opennyaiorg/legal_llm_data\", split='train', token=None).to_pandas()\n",
    "def get_sample(task=None):\n",
    "    if task==None:\n",
    "        task=random.choice(list(set(dataset_pandas['task'].to_list())))\n",
    "    print('Random sample selected from ',task)\n",
    "    filtered = dataset_pandas[dataset_pandas.task==task]['combined_input_prompt'].to_list()\n",
    "    choice = random.choice(filtered);prompt = choice.split('[/INST]')[0]+'[/INST]';response = choice.split('[/INST]')[-1]\n",
    "    return prompt,response"
   ]
  },
  {
   "cell_type": "code",
   "execution_count": null,
   "metadata": {},
   "outputs": [],
   "source": [
    "prompt, response = get_sample(task='argument_generation___petitioner')\n",
    "generated_text = client.generate(prompt,\n",
    "                                 max_new_tokens=1024,\n",
    "                                 repetition_penalty=1.05,\n",
    "                                 return_full_text=False,\n",
    "                                 stop_sequences= [\"[/INST]\", \"</s>\"],\n",
    "                                 temperature=0.1,\n",
    "                                 top_k=10,\n",
    "                                 top_n_tokens=5,\n",
    "                                 top_p=0.95,\n",
    "                                 typical_p=0.95).generated_text\n",
    "\n",
    "print('Prompt: ',prompt)\n",
    "print('###'*99)\n",
    "print('Generated Response: ',generated_text)"
   ]
  },
  {
   "cell_type": "code",
   "execution_count": null,
   "metadata": {},
   "outputs": [],
   "source": [
    "prompt, response = get_sample()\n",
    "generated_text = client.generate(prompt,\n",
    "                                 max_new_tokens=1024,\n",
    "                                 repetition_penalty=1.03,\n",
    "                                 return_full_text=False,\n",
    "                                 stop_sequences= [\"[/INST]\", \"</s>\"],\n",
    "                                 temperature=0.1,\n",
    "                                 top_k=10,\n",
    "                                 top_n_tokens=5,\n",
    "                                 top_p=0.95,\n",
    "                                 typical_p=0.95).generated_text\n",
    "\n",
    "print('Prompt: ',prompt)\n",
    "print('###'*99)\n",
    "print('Generated Response: ',generated_text)"
   ]
  },
  {
   "cell_type": "code",
   "execution_count": null,
   "metadata": {},
   "outputs": [],
   "source": []
  }
 ],
 "metadata": {
  "kernelspec": {
   "display_name": "dev",
   "language": "python",
   "name": "python3"
  },
  "language_info": {
   "codemirror_mode": {
    "name": "ipython",
    "version": 3
   },
   "file_extension": ".py",
   "mimetype": "text/x-python",
   "name": "python",
   "nbconvert_exporter": "python",
   "pygments_lexer": "ipython3",
   "version": "3.11.4"
  }
 },
 "nbformat": 4,
 "nbformat_minor": 2
}
