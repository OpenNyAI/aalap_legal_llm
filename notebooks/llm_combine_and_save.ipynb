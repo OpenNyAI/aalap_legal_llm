{
 "cells": [
  {
   "cell_type": "code",
   "execution_count": null,
   "id": "9d34bdd8-8d93-408a-b02a-889d03aa443c",
   "metadata": {},
   "outputs": [],
   "source": [
    "from peft import PeftModel \n",
    "from transformers import (\n",
    "    AutoModelForCausalLM,\n",
    "    AutoTokenizer,\n",
    "    AutoConfig\n",
    ")"
   ]
  },
  {
   "cell_type": "code",
   "execution_count": null,
   "id": "ae994c80-cf5a-4254-bc40-d7f051bc4251",
   "metadata": {},
   "outputs": [],
   "source": [
    "MODEL_NAME = \"mistralai/Mistral-7B-v0.1\"\n",
    "ADPATER_PATH = \"../trained_models\"\n",
    "MAX_SEQ_LENGTH = 16384\n",
    "OUTPUT_PATH = 'Aalap-Mistral-7B-v0.1-bf16'"
   ]
  },
  {
   "cell_type": "code",
   "execution_count": null,
   "id": "3c0c8c16-f0e3-4f38-b9c6-bd3814e0e553",
   "metadata": {},
   "outputs": [],
   "source": [
    "model_config =  AutoConfig.from_pretrained(MODEL_NAME,trust_remote_code=True)\n",
    "model_config.max_position_embeddings = MAX_SEQ_LENGTH\n",
    "model = AutoModelForCausalLM.from_pretrained(MODEL_NAME,config=model_config)\n",
    "tokenizer = AutoTokenizer.from_pretrained(MODEL_NAME, trust_remote_code=True)\n",
    "tokenizer.pad_token = tokenizer.eos_token\n",
    "tokenizer.padding_side = \"right\"\n",
    "tokenizer.model_max_length = MAX_SEQ_LENGTH"
   ]
  },
  {
   "cell_type": "code",
   "execution_count": null,
   "id": "81b4796c-78bd-4986-9d01-4e1dbbebd3da",
   "metadata": {},
   "outputs": [],
   "source": [
    "model = PeftModel.from_pretrained(model, ADPATER_PATH)"
   ]
  },
  {
   "cell_type": "code",
   "execution_count": null,
   "id": "df5947e7-1bd7-44c3-92ac-a77fa64704e5",
   "metadata": {},
   "outputs": [],
   "source": [
    "model = model.merge_and_unload()"
   ]
  },
  {
   "cell_type": "code",
   "execution_count": null,
   "id": "7d0c8215-a2ae-498c-b577-cda2f718a0c8",
   "metadata": {},
   "outputs": [],
   "source": [
    "model.save_pretrained(OUTPUT_PATH, safe_serialization=True)\n",
    "tokenizer.save_pretrained(OUTPUT_PATH)"
   ]
  },
  {
   "cell_type": "code",
   "execution_count": null,
   "id": "537ddaa6-5c7e-436b-8c61-987040bb3945",
   "metadata": {},
   "outputs": [],
   "source": []
  }
 ],
 "metadata": {
  "kernelspec": {
   "display_name": "Python 3 (ipykernel)",
   "language": "python",
   "name": "python3"
  },
  "language_info": {
   "codemirror_mode": {
    "name": "ipython",
    "version": 3
   },
   "file_extension": ".py",
   "mimetype": "text/x-python",
   "name": "python",
   "nbconvert_exporter": "python",
   "pygments_lexer": "ipython3",
   "version": "3.11.6"
  }
 },
 "nbformat": 4,
 "nbformat_minor": 5
}
